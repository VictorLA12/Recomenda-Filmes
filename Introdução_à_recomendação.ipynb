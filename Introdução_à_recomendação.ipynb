{
  "cells": [
    {
      "cell_type": "markdown",
      "metadata": {
        "id": "view-in-github",
        "colab_type": "text"
      },
      "source": [
        "<a href=\"https://colab.research.google.com/github/VictorLA12/Recomenda-Filmes/blob/main/Introdu%C3%A7%C3%A3o_%C3%A0_recomenda%C3%A7%C3%A3o.ipynb\" target=\"_parent\"><img src=\"https://colab.research.google.com/assets/colab-badge.svg\" alt=\"Open In Colab\"/></a>"
      ]
    },
    {
      "cell_type": "code",
      "execution_count": null,
      "metadata": {
        "id": "hqL88_AqHAGu"
      },
      "outputs": [],
      "source": [
        "import pandas as pd\n",
        "filmes = pd.read_csv(\"movies.csv\")\n",
        "filmes.columns = ['FilmeId', 'Título', 'Gênero']\n",
        "filmes = filmes.set_index('FilmeId')\n",
        "filmes.head()"
      ]
    },
    {
      "cell_type": "code",
      "source": [
        "from google.colab import drive\n",
        "drive.mount('/content/drive')"
      ],
      "metadata": {
        "id": "giSaEilnW7gu"
      },
      "execution_count": null,
      "outputs": []
    },
    {
      "cell_type": "code",
      "execution_count": null,
      "metadata": {
        "id": "eBEXP2VrLbZh"
      },
      "outputs": [],
      "source": [
        "notas = pd.read_csv(\"ratings.csv\")\n",
        "notas.head()"
      ]
    },
    {
      "cell_type": "code",
      "execution_count": null,
      "metadata": {
        "id": "rk-apsxwMZlq"
      },
      "outputs": [],
      "source": [
        "notas.columns = ['UsuárioId', 'FilmeId', 'Nota', 'Momento']\n",
        "notas.head()"
      ]
    },
    {
      "cell_type": "code",
      "execution_count": null,
      "metadata": {
        "id": "owcC2lMzNGgv"
      },
      "outputs": [],
      "source": [
        "notas.describe()"
      ]
    },
    {
      "cell_type": "markdown",
      "metadata": {
        "id": "CkrQRDazNp_R"
      },
      "source": [
        "## Primeira tentativa de Recomendação\n"
      ]
    },
    {
      "cell_type": "code",
      "execution_count": null,
      "metadata": {
        "id": "mip2Ecy8Nwao"
      },
      "outputs": [],
      "source": [
        "total_de_votos = notas['FilmeId'].value_counts()\n",
        "total_de_votos.head()\n"
      ]
    },
    {
      "cell_type": "code",
      "execution_count": null,
      "metadata": {
        "id": "6A2eDOLlOc5f"
      },
      "outputs": [],
      "source": [
        "filmes['Avaliações'] = total_de_votos\n",
        "filmes.head()"
      ]
    },
    {
      "cell_type": "code",
      "execution_count": null,
      "metadata": {
        "id": "rAiY7dsbPs_f"
      },
      "outputs": [],
      "source": [
        "#ordenar por número de avaliações\n",
        "#ascending = False é pra colocar em ordem descrescente\n",
        "filmes.sort_values('Avaliações', ascending = False).head(10)"
      ]
    },
    {
      "cell_type": "code",
      "execution_count": null,
      "metadata": {
        "id": "GjcA75DTRcea"
      },
      "outputs": [],
      "source": [
        "#agrupar por nota\n",
        "nota_média = notas.groupby('FilmeId').mean()[\"Nota\"]\n",
        "nota_média.head(20)"
      ]
    },
    {
      "cell_type": "code",
      "source": [
        "filmes['Média'] = nota_média"
      ],
      "metadata": {
        "id": "ZRWfumr_Li8K"
      },
      "execution_count": null,
      "outputs": []
    },
    {
      "cell_type": "code",
      "execution_count": null,
      "metadata": {
        "id": "XfXpLYc_Ush3"
      },
      "outputs": [],
      "source": [
        "#filtrar filmes com mais de 50 avaliações e ordenar por média\n",
        "filmes.query(\"Avaliações >= 50\").sort_values('Média', ascending = False).head(10)\n",
        "filmes_selecionados = filmes.query(\"Avaliações >= 50\")"
      ]
    },
    {
      "cell_type": "code",
      "source": [
        "filmes.query(\"Avaliações >= 50\").sort_values('Média', ascending = False).head(10)\n"
      ],
      "metadata": {
        "id": "V7bo16_YSZ_m"
      },
      "execution_count": null,
      "outputs": []
    },
    {
      "cell_type": "code",
      "source": [
        "filmes_selecionados.head(10)"
      ],
      "metadata": {
        "id": "KouDNODsSd5D"
      },
      "execution_count": null,
      "outputs": []
    },
    {
      "cell_type": "code",
      "source": [
        "#Ubiraci (4, 5)\n",
        "#Ubirajara (3.5, 2)\n",
        "import matplotlib.pyplot as plt\n",
        "plt.plot(4, 5, \"go\")\n",
        "plt.plot(3.5, 2, \"ro\")\n",
        "plt.legend([\"Ubiraci\", \"Ubijara\"])\n"
      ],
      "metadata": {
        "id": "-BVg668gUemg"
      },
      "execution_count": null,
      "outputs": []
    },
    {
      "cell_type": "code",
      "source": [
        "plt.title('Distância entre 2 usuários')\n",
        "import numpy as np\n",
        "Ubiraci = np.array([4, 5])\n",
        "Ubirajara = np.array([3.5, 2])\n",
        "\n"
      ],
      "metadata": {
        "id": "vEZ6UbK-WRrs"
      },
      "execution_count": null,
      "outputs": []
    },
    {
      "cell_type": "code",
      "source": [
        "Ubiraci - Ubirajara"
      ],
      "metadata": {
        "id": "59jVhtm4WmNs"
      },
      "execution_count": null,
      "outputs": []
    },
    {
      "cell_type": "code",
      "source": [
        "from math import sqrt\n",
        "def pitágoras (a,b):\n",
        "  (deltax, deltay) = a - b\n",
        "  return sqrt(deltax*deltax + deltay*deltay)"
      ],
      "metadata": {
        "id": "qSF2jyJ7WpFu"
      },
      "execution_count": null,
      "outputs": []
    },
    {
      "cell_type": "code",
      "source": [
        "pitágoras(Ubiraci,Ubirajara)"
      ],
      "metadata": {
        "id": "woa5xbENW0-M"
      },
      "execution_count": null,
      "outputs": []
    },
    {
      "cell_type": "code",
      "source": [
        "def distancia (a,b):\n",
        "  return np.linalg.norm(a-b)"
      ],
      "metadata": {
        "id": "m3nZBt01XXES"
      },
      "execution_count": null,
      "outputs": []
    },
    {
      "cell_type": "code",
      "source": [
        "def notas_usuario(usuario):\n",
        "  notas_usuario = notas.query(\"UsuárioId==%d\" % usuario)\n",
        "  notas_usuario[[\"FilmeId\", \"Nota\"]].set_index('FilmeId')\n",
        "  return notas_usuario\n"
      ],
      "metadata": {
        "id": "-rHnqMlXCQKJ"
      },
      "execution_count": null,
      "outputs": []
    },
    {
      "cell_type": "code",
      "source": [
        "notas_usuario(610)"
      ],
      "metadata": {
        "id": "60XP5H1fDIYj"
      },
      "execution_count": null,
      "outputs": []
    },
    {
      "cell_type": "code",
      "source": [
        "#join junta 2 dataframes pelo índice. Precisamos usar um sufixo para q as colunas não se sobeponham.\n",
        "usuario1 = notas_usuario(1)\n",
        "usuario10 = notas_usuario(10)\n",
        "diferenca = usuario1.join(usuario10, lsuffix=\"_esquerda\", rsuffix=\"_direita\")\n",
        "diferenca ['Nota_direita']"
      ],
      "metadata": {
        "id": "S3O1KnrlRY-o"
      },
      "execution_count": null,
      "outputs": []
    },
    {
      "cell_type": "code",
      "source": [
        "distancia (diferenca ['Nota_esquerda'],diferenca ['Nota_direita'])\n"
      ],
      "metadata": {
        "id": "5paC5kmWT_CJ"
      },
      "execution_count": null,
      "outputs": []
    },
    {
      "cell_type": "code",
      "source": [
        "def distancia_entre_usuarios (usuario_id1, usuario_id2):\n",
        "  nota_1 = notas_usuario(usuario_id1)\n",
        "  nota_2 = notas_usuario(usuario_id2)\n",
        "  diferenca = nota_1.join(nota_2, lsuffix=\"_esquerda\", rsuffix=\"_direita\").dropna()\n",
        "  dist =  distancia (diferenca ['Nota_esquerda'],diferenca ['Nota_direita'])\n",
        "  return [usuario_id1, usuario_id2, dist]\n"
      ],
      "metadata": {
        "id": "PBKraC5zZM5J"
      },
      "execution_count": null,
      "outputs": []
    },
    {
      "cell_type": "code",
      "source": [
        "quantidade_de_usuarios = len(notas['UsuárioId'].unique())\n",
        "print('Temos {} usuários'.format(quantidade_de_usuarios))"
      ],
      "metadata": {
        "id": "hDH61xSGbbDF"
      },
      "execution_count": null,
      "outputs": []
    },
    {
      "cell_type": "code",
      "source": [
        "def distancia_de_todos(voce_id):\n",
        "  distancias = []\n",
        "  for usuario_id in notas['UsuárioId'].unique():\n",
        "    informacoes = distancia_entre_usuarios(voce_id, usuario_id)\n",
        "    distancias.append(informacoes)\n",
        "    distancias = pd.DataFrame(distancias, columns = ['voce', 'outro_usuario', 'distância'])\n",
        "  return distancias\n"
      ],
      "metadata": {
        "id": "KFzQhXW9enrq"
      },
      "execution_count": null,
      "outputs": []
    },
    {
      "cell_type": "code",
      "source": [
        "distancia_de_todos(1)"
      ],
      "metadata": {
        "colab": {
          "base_uri": "https://localhost:8080/",
          "height": 81
        },
        "id": "OcWVlyZPpeGA",
        "outputId": "60536de7-44da-4cbb-e15e-1131b71c160c"
      },
      "execution_count": null,
      "outputs": [
        {
          "output_type": "execute_result",
          "data": {
            "text/plain": [
              "   voce  outro_usuario  distância\n",
              "0     1              1        0.0"
            ],
            "text/html": [
              "\n",
              "  <div id=\"df-f5c3d72e-6450-4767-8ec0-61f099d9d1d8\">\n",
              "    <div class=\"colab-df-container\">\n",
              "      <div>\n",
              "<style scoped>\n",
              "    .dataframe tbody tr th:only-of-type {\n",
              "        vertical-align: middle;\n",
              "    }\n",
              "\n",
              "    .dataframe tbody tr th {\n",
              "        vertical-align: top;\n",
              "    }\n",
              "\n",
              "    .dataframe thead th {\n",
              "        text-align: right;\n",
              "    }\n",
              "</style>\n",
              "<table border=\"1\" class=\"dataframe\">\n",
              "  <thead>\n",
              "    <tr style=\"text-align: right;\">\n",
              "      <th></th>\n",
              "      <th>voce</th>\n",
              "      <th>outro_usuario</th>\n",
              "      <th>distância</th>\n",
              "    </tr>\n",
              "  </thead>\n",
              "  <tbody>\n",
              "    <tr>\n",
              "      <th>0</th>\n",
              "      <td>1</td>\n",
              "      <td>1</td>\n",
              "      <td>0.0</td>\n",
              "    </tr>\n",
              "  </tbody>\n",
              "</table>\n",
              "</div>\n",
              "      <button class=\"colab-df-convert\" onclick=\"convertToInteractive('df-f5c3d72e-6450-4767-8ec0-61f099d9d1d8')\"\n",
              "              title=\"Convert this dataframe to an interactive table.\"\n",
              "              style=\"display:none;\">\n",
              "        \n",
              "  <svg xmlns=\"http://www.w3.org/2000/svg\" height=\"24px\"viewBox=\"0 0 24 24\"\n",
              "       width=\"24px\">\n",
              "    <path d=\"M0 0h24v24H0V0z\" fill=\"none\"/>\n",
              "    <path d=\"M18.56 5.44l.94 2.06.94-2.06 2.06-.94-2.06-.94-.94-2.06-.94 2.06-2.06.94zm-11 1L8.5 8.5l.94-2.06 2.06-.94-2.06-.94L8.5 2.5l-.94 2.06-2.06.94zm10 10l.94 2.06.94-2.06 2.06-.94-2.06-.94-.94-2.06-.94 2.06-2.06.94z\"/><path d=\"M17.41 7.96l-1.37-1.37c-.4-.4-.92-.59-1.43-.59-.52 0-1.04.2-1.43.59L10.3 9.45l-7.72 7.72c-.78.78-.78 2.05 0 2.83L4 21.41c.39.39.9.59 1.41.59.51 0 1.02-.2 1.41-.59l7.78-7.78 2.81-2.81c.8-.78.8-2.07 0-2.86zM5.41 20L4 18.59l7.72-7.72 1.47 1.35L5.41 20z\"/>\n",
              "  </svg>\n",
              "      </button>\n",
              "      \n",
              "  <style>\n",
              "    .colab-df-container {\n",
              "      display:flex;\n",
              "      flex-wrap:wrap;\n",
              "      gap: 12px;\n",
              "    }\n",
              "\n",
              "    .colab-df-convert {\n",
              "      background-color: #E8F0FE;\n",
              "      border: none;\n",
              "      border-radius: 50%;\n",
              "      cursor: pointer;\n",
              "      display: none;\n",
              "      fill: #1967D2;\n",
              "      height: 32px;\n",
              "      padding: 0 0 0 0;\n",
              "      width: 32px;\n",
              "    }\n",
              "\n",
              "    .colab-df-convert:hover {\n",
              "      background-color: #E2EBFA;\n",
              "      box-shadow: 0px 1px 2px rgba(60, 64, 67, 0.3), 0px 1px 3px 1px rgba(60, 64, 67, 0.15);\n",
              "      fill: #174EA6;\n",
              "    }\n",
              "\n",
              "    [theme=dark] .colab-df-convert {\n",
              "      background-color: #3B4455;\n",
              "      fill: #D2E3FC;\n",
              "    }\n",
              "\n",
              "    [theme=dark] .colab-df-convert:hover {\n",
              "      background-color: #434B5C;\n",
              "      box-shadow: 0px 1px 3px 1px rgba(0, 0, 0, 0.15);\n",
              "      filter: drop-shadow(0px 1px 2px rgba(0, 0, 0, 0.3));\n",
              "      fill: #FFFFFF;\n",
              "    }\n",
              "  </style>\n",
              "\n",
              "      <script>\n",
              "        const buttonEl =\n",
              "          document.querySelector('#df-f5c3d72e-6450-4767-8ec0-61f099d9d1d8 button.colab-df-convert');\n",
              "        buttonEl.style.display =\n",
              "          google.colab.kernel.accessAllowed ? 'block' : 'none';\n",
              "\n",
              "        async function convertToInteractive(key) {\n",
              "          const element = document.querySelector('#df-f5c3d72e-6450-4767-8ec0-61f099d9d1d8');\n",
              "          const dataTable =\n",
              "            await google.colab.kernel.invokeFunction('convertToInteractive',\n",
              "                                                     [key], {});\n",
              "          if (!dataTable) return;\n",
              "\n",
              "          const docLinkHtml = 'Like what you see? Visit the ' +\n",
              "            '<a target=\"_blank\" href=https://colab.research.google.com/notebooks/data_table.ipynb>data table notebook</a>'\n",
              "            + ' to learn more about interactive tables.';\n",
              "          element.innerHTML = '';\n",
              "          dataTable['output_type'] = 'display_data';\n",
              "          await google.colab.output.renderOutput(dataTable, element);\n",
              "          const docLink = document.createElement('div');\n",
              "          docLink.innerHTML = docLinkHtml;\n",
              "          element.appendChild(docLink);\n",
              "        }\n",
              "      </script>\n",
              "    </div>\n",
              "  </div>\n",
              "  "
            ]
          },
          "metadata": {},
          "execution_count": 26
        }
      ]
    },
    {
      "cell_type": "markdown",
      "source": [
        "##Usuários sem nada em comum são colocados distantes"
      ],
      "metadata": {
        "id": "NA7odaB6mD9U"
      }
    },
    {
      "cell_type": "code",
      "source": [
        "def distancia_entre_usuarios (usuario_id1, usuario_id2, mínimo = 5):\n",
        "  nota_1 = notas_usuario(usuario_id1)\n",
        "  nota_2 = notas_usuario(usuario_id2)\n",
        "  diferenca = nota_1.join(nota_2, lsuffix=\"_esquerda\", rsuffix=\"_direita\").dropna()\n",
        "\n",
        "  if (len(diferenca) < mínimo):\n",
        "    return [usuario_id1, usuario_id2, 1000000]\n",
        "\n",
        "  dist =  distancia (diferenca ['Nota_esquerda'],diferenca ['Nota_direita'])\n",
        "  return [usuario_id1, usuario_id2, dist]\n"
      ],
      "metadata": {
        "id": "Fgwxhe0GmJjh"
      },
      "execution_count": null,
      "outputs": []
    },
    {
      "cell_type": "code",
      "source": [
        "def usuarios_mais_proximos (voce_id):\n",
        "  dist_todos = distancia_de_todos(voce_id)\n",
        "  dist_todos = dist_todos.sort_values('distância')\n",
        "  dist_todos = dist_todos.set_index('outro_usuario').drop(voce_id)\n",
        "  return dist_todos\n"
      ],
      "metadata": {
        "id": "VUoRuquZp35S"
      },
      "execution_count": null,
      "outputs": []
    },
    {
      "cell_type": "code",
      "source": [
        "usuarios_mais_proximos (1).head()"
      ],
      "metadata": {
        "id": "hzZbOAz7qluv"
      },
      "execution_count": null,
      "outputs": []
    },
    {
      "cell_type": "code",
      "source": [
        "#n = número de usuários a analisar\n",
        "def distancia_de_todos(voce_id, n = None):\n",
        "  todos_usuarios = notas['UsuárioId'].unique()\n",
        "  if n:\n",
        "    todos_usuarios = todos_usuarios[:n]\n",
        "  dist_todos = [distancia_entre_usuarios(voce_id, UsuárioId) for UsuárioId in todos_usuarios]\n",
        "  dist_todos = list(filter(None, dist_todos))\n",
        "  dist_todos = pd.DataFrame(dist_todos, columns = ['voce', 'outro_usuario', 'distância'])\n",
        "  return dist_todos"
      ],
      "metadata": {
        "id": "6jYO-mZtVOlI"
      },
      "execution_count": null,
      "outputs": []
    },
    {
      "cell_type": "code",
      "source": [
        "#n = número de usuários a analisar\n",
        "def usuarios_mais_proximos (voce_id, n = None):\n",
        "  dist_todos = distancia_de_todos(voce_id)\n",
        "  dist_todos = dist_todos.sort_values('distância')\n",
        "  dist_todos = dist_todos.set_index('outro_usuario').drop(voce_id)\n",
        "  return dist_todos\n"
      ],
      "metadata": {
        "id": "lyF2oRzjZmGd"
      },
      "execution_count": null,
      "outputs": []
    },
    {
      "cell_type": "code",
      "source": [
        "usuarios_mais_proximos(1, n = 50)"
      ],
      "metadata": {
        "colab": {
          "base_uri": "https://localhost:8080/",
          "height": 81
        },
        "id": "onNJYX0Af2Dg",
        "outputId": "f62e78e7-3c89-4f04-f12b-ecdec75d023e"
      },
      "execution_count": null,
      "outputs": [
        {
          "output_type": "execute_result",
          "data": {
            "text/plain": [
              "Empty DataFrame\n",
              "Columns: [voce, distância]\n",
              "Index: []"
            ],
            "text/html": [
              "\n",
              "  <div id=\"df-66c86c0e-87aa-428c-a8b8-f679e33fbff6\">\n",
              "    <div class=\"colab-df-container\">\n",
              "      <div>\n",
              "<style scoped>\n",
              "    .dataframe tbody tr th:only-of-type {\n",
              "        vertical-align: middle;\n",
              "    }\n",
              "\n",
              "    .dataframe tbody tr th {\n",
              "        vertical-align: top;\n",
              "    }\n",
              "\n",
              "    .dataframe thead th {\n",
              "        text-align: right;\n",
              "    }\n",
              "</style>\n",
              "<table border=\"1\" class=\"dataframe\">\n",
              "  <thead>\n",
              "    <tr style=\"text-align: right;\">\n",
              "      <th></th>\n",
              "      <th>voce</th>\n",
              "      <th>distância</th>\n",
              "    </tr>\n",
              "    <tr>\n",
              "      <th>outro_usuario</th>\n",
              "      <th></th>\n",
              "      <th></th>\n",
              "    </tr>\n",
              "  </thead>\n",
              "  <tbody>\n",
              "  </tbody>\n",
              "</table>\n",
              "</div>\n",
              "      <button class=\"colab-df-convert\" onclick=\"convertToInteractive('df-66c86c0e-87aa-428c-a8b8-f679e33fbff6')\"\n",
              "              title=\"Convert this dataframe to an interactive table.\"\n",
              "              style=\"display:none;\">\n",
              "        \n",
              "  <svg xmlns=\"http://www.w3.org/2000/svg\" height=\"24px\"viewBox=\"0 0 24 24\"\n",
              "       width=\"24px\">\n",
              "    <path d=\"M0 0h24v24H0V0z\" fill=\"none\"/>\n",
              "    <path d=\"M18.56 5.44l.94 2.06.94-2.06 2.06-.94-2.06-.94-.94-2.06-.94 2.06-2.06.94zm-11 1L8.5 8.5l.94-2.06 2.06-.94-2.06-.94L8.5 2.5l-.94 2.06-2.06.94zm10 10l.94 2.06.94-2.06 2.06-.94-2.06-.94-.94-2.06-.94 2.06-2.06.94z\"/><path d=\"M17.41 7.96l-1.37-1.37c-.4-.4-.92-.59-1.43-.59-.52 0-1.04.2-1.43.59L10.3 9.45l-7.72 7.72c-.78.78-.78 2.05 0 2.83L4 21.41c.39.39.9.59 1.41.59.51 0 1.02-.2 1.41-.59l7.78-7.78 2.81-2.81c.8-.78.8-2.07 0-2.86zM5.41 20L4 18.59l7.72-7.72 1.47 1.35L5.41 20z\"/>\n",
              "  </svg>\n",
              "      </button>\n",
              "      \n",
              "  <style>\n",
              "    .colab-df-container {\n",
              "      display:flex;\n",
              "      flex-wrap:wrap;\n",
              "      gap: 12px;\n",
              "    }\n",
              "\n",
              "    .colab-df-convert {\n",
              "      background-color: #E8F0FE;\n",
              "      border: none;\n",
              "      border-radius: 50%;\n",
              "      cursor: pointer;\n",
              "      display: none;\n",
              "      fill: #1967D2;\n",
              "      height: 32px;\n",
              "      padding: 0 0 0 0;\n",
              "      width: 32px;\n",
              "    }\n",
              "\n",
              "    .colab-df-convert:hover {\n",
              "      background-color: #E2EBFA;\n",
              "      box-shadow: 0px 1px 2px rgba(60, 64, 67, 0.3), 0px 1px 3px 1px rgba(60, 64, 67, 0.15);\n",
              "      fill: #174EA6;\n",
              "    }\n",
              "\n",
              "    [theme=dark] .colab-df-convert {\n",
              "      background-color: #3B4455;\n",
              "      fill: #D2E3FC;\n",
              "    }\n",
              "\n",
              "    [theme=dark] .colab-df-convert:hover {\n",
              "      background-color: #434B5C;\n",
              "      box-shadow: 0px 1px 3px 1px rgba(0, 0, 0, 0.15);\n",
              "      filter: drop-shadow(0px 1px 2px rgba(0, 0, 0, 0.3));\n",
              "      fill: #FFFFFF;\n",
              "    }\n",
              "  </style>\n",
              "\n",
              "      <script>\n",
              "        const buttonEl =\n",
              "          document.querySelector('#df-66c86c0e-87aa-428c-a8b8-f679e33fbff6 button.colab-df-convert');\n",
              "        buttonEl.style.display =\n",
              "          google.colab.kernel.accessAllowed ? 'block' : 'none';\n",
              "\n",
              "        async function convertToInteractive(key) {\n",
              "          const element = document.querySelector('#df-66c86c0e-87aa-428c-a8b8-f679e33fbff6');\n",
              "          const dataTable =\n",
              "            await google.colab.kernel.invokeFunction('convertToInteractive',\n",
              "                                                     [key], {});\n",
              "          if (!dataTable) return;\n",
              "\n",
              "          const docLinkHtml = 'Like what you see? Visit the ' +\n",
              "            '<a target=\"_blank\" href=https://colab.research.google.com/notebooks/data_table.ipynb>data table notebook</a>'\n",
              "            + ' to learn more about interactive tables.';\n",
              "          element.innerHTML = '';\n",
              "          dataTable['output_type'] = 'display_data';\n",
              "          await google.colab.output.renderOutput(dataTable, element);\n",
              "          const docLink = document.createElement('div');\n",
              "          docLink.innerHTML = docLinkHtml;\n",
              "          element.appendChild(docLink);\n",
              "        }\n",
              "      </script>\n",
              "    </div>\n",
              "  </div>\n",
              "  "
            ]
          },
          "metadata": {},
          "execution_count": 41
        }
      ]
    },
    {
      "cell_type": "code",
      "source": [
        "#n = número de usuários a analisar\n",
        "def distancia_entre_usuarios (usuario_id1, usuario_id2, mínimo = 5):\n",
        "  nota_1 = notas_usuario(usuario_id1)\n",
        "  nota_2 = notas_usuario(usuario_id2)\n",
        "  diferenca = nota_1.join(nota_2, lsuffix=\"_esquerda\", rsuffix=\"_direita\").dropna()\n",
        "\n",
        "  if (len(diferenca) < mínimo):\n",
        "    return None\n",
        "\n",
        "  dist =  distancia (diferenca ['Nota_esquerda'],diferenca ['Nota_direita'])\n",
        "  return [usuario_id1, usuario_id2, dist]"
      ],
      "metadata": {
        "id": "JPNXMYIFg4Qw"
      },
      "execution_count": null,
      "outputs": []
    },
    {
      "cell_type": "code",
      "source": [
        "#sugestões de filmes pra vc\n",
        "voce=1\n",
        "def sugestoes(voce, n=None):\n",
        "  notas_voce = notas_usuario(voce)\n",
        "  filmes_vistos = notas_voce.index\n",
        "  similares = usuarios_mais_proximos (voce, n = n)\n",
        "  similar = similares.iloc[0].name\n",
        "  notas_similar = notas_usuario(similar)\n",
        "  notas_similar = notas_similar.drop(filmes_vistos, errors='ignore')\n",
        "  recomendacoes = notas_similar.sort_values('nota', ascending = False)\n",
        "  return recomendacoes.join(filmes)"
      ],
      "metadata": {
        "id": "nFCSxQjtkWS_"
      },
      "execution_count": null,
      "outputs": []
    },
    {
      "cell_type": "markdown",
      "source": [
        "##Sugerindo baseado em vários usuários"
      ],
      "metadata": {
        "id": "9eFm7bVcrnoF"
      }
    },
    {
      "cell_type": "code",
      "source": [
        "def usuarios_mais_proximos (voce_id, mais_proximos = 10, n = None):\n",
        "  dist_todos = distancia_de_todos(voce_id)\n",
        "  dist_todos = dist_todos.sort_values('distância')\n",
        "  dist_todos = dist_todos.set_index('outro_usuario').drop(voce_id)\n",
        "  return dist_todos.head(mais_proximos)\n"
      ],
      "metadata": {
        "id": "V08SIgSMvQ8M"
      },
      "execution_count": null,
      "outputs": []
    },
    {
      "cell_type": "code",
      "source": [
        "usuarios_mais_proximos (1, mais_proximos=2, n=100)"
      ],
      "metadata": {
        "id": "DA66JbPlwj4p"
      },
      "execution_count": null,
      "outputs": []
    },
    {
      "cell_type": "code",
      "source": [
        "\n",
        "#KNN = k-nearest neighbor\n",
        "def sugestao(voce, mais_proximos=10, n=None):\n",
        "  notas_voce = notas_usuario(voce)\n",
        "  filmes_vistos = notas_voce.index\n",
        "  similares = usuarios_mais_proximos (voce, mais_proximos= mais_proximos, n = n)\n",
        "  usuarios_similares = similares.index\n",
        "  notas_similares = notas.set_index('UsuárioId').loc[usuarios_similares]\n",
        "  recomendacoes = notas_similares.groupby('FilmeId').mean()[[\"Nota\"]]\n",
        "  recomendacoes.sort_values(\"Nota\", ascending = False)\n",
        "  return recomendacoes.join(filmes)"
      ],
      "metadata": {
        "id": "DJ0kNDm2qa2-"
      },
      "execution_count": null,
      "outputs": []
    },
    {
      "cell_type": "code",
      "source": [
        "sugestao(1, n=50)"
      ],
      "metadata": {
        "id": "JT4k8Af6rl_9"
      },
      "execution_count": null,
      "outputs": []
    },
    {
      "cell_type": "markdown",
      "source": [
        "##Testar um usuário novo"
      ],
      "metadata": {
        "id": "d1kO7V45-7y6"
      }
    },
    {
      "cell_type": "code",
      "source": [
        "def novo_usuario(dados):\n",
        "  novo_usuario = notas['UsuárioId'].max()+1\n",
        "  notas_novo_usuario = pd.DataFrame(dados, columns = ['FilmeId', 'Nota'])\n",
        "  notas_novo_usuario['UsuárioId'] = novo_usuario\n",
        "  return pd.concat([notas, notas_novo_usuario])"
      ],
      "metadata": {
        "id": "2EZqYM-Q4IhH"
      },
      "execution_count": null,
      "outputs": []
    },
    {
      "cell_type": "code",
      "source": [
        "notas = novo_usuario([[12, 5], [1, 4.5], [1989, 4.9], [33, 4.8], [2012, 4.7], [2015, 4.6], [30, 4.4], [6, 4.3], [2013, 4.2], [7, 4.1], [9, 4]])\n",
        "notas.tail()\n",
        "#tail = 5 ultimos"
      ],
      "metadata": {
        "colab": {
          "base_uri": "https://localhost:8080/",
          "height": 206
        },
        "id": "jMJPe6_iBZkN",
        "outputId": "999cda67-8589-49b4-da4f-8f714b8a67b8"
      },
      "execution_count": null,
      "outputs": [
        {
          "output_type": "execute_result",
          "data": {
            "text/plain": [
              "    UsuárioId  FilmeId  Nota  Momento\n",
              "6         611       30   4.4      NaN\n",
              "7         611        6   4.3      NaN\n",
              "8         611     2013   4.2      NaN\n",
              "9         611        7   4.1      NaN\n",
              "10        611        9   4.0      NaN"
            ],
            "text/html": [
              "\n",
              "  <div id=\"df-e1152c7a-2b3a-49fe-a58c-c4d297231fa3\">\n",
              "    <div class=\"colab-df-container\">\n",
              "      <div>\n",
              "<style scoped>\n",
              "    .dataframe tbody tr th:only-of-type {\n",
              "        vertical-align: middle;\n",
              "    }\n",
              "\n",
              "    .dataframe tbody tr th {\n",
              "        vertical-align: top;\n",
              "    }\n",
              "\n",
              "    .dataframe thead th {\n",
              "        text-align: right;\n",
              "    }\n",
              "</style>\n",
              "<table border=\"1\" class=\"dataframe\">\n",
              "  <thead>\n",
              "    <tr style=\"text-align: right;\">\n",
              "      <th></th>\n",
              "      <th>UsuárioId</th>\n",
              "      <th>FilmeId</th>\n",
              "      <th>Nota</th>\n",
              "      <th>Momento</th>\n",
              "    </tr>\n",
              "  </thead>\n",
              "  <tbody>\n",
              "    <tr>\n",
              "      <th>6</th>\n",
              "      <td>611</td>\n",
              "      <td>30</td>\n",
              "      <td>4.4</td>\n",
              "      <td>NaN</td>\n",
              "    </tr>\n",
              "    <tr>\n",
              "      <th>7</th>\n",
              "      <td>611</td>\n",
              "      <td>6</td>\n",
              "      <td>4.3</td>\n",
              "      <td>NaN</td>\n",
              "    </tr>\n",
              "    <tr>\n",
              "      <th>8</th>\n",
              "      <td>611</td>\n",
              "      <td>2013</td>\n",
              "      <td>4.2</td>\n",
              "      <td>NaN</td>\n",
              "    </tr>\n",
              "    <tr>\n",
              "      <th>9</th>\n",
              "      <td>611</td>\n",
              "      <td>7</td>\n",
              "      <td>4.1</td>\n",
              "      <td>NaN</td>\n",
              "    </tr>\n",
              "    <tr>\n",
              "      <th>10</th>\n",
              "      <td>611</td>\n",
              "      <td>9</td>\n",
              "      <td>4.0</td>\n",
              "      <td>NaN</td>\n",
              "    </tr>\n",
              "  </tbody>\n",
              "</table>\n",
              "</div>\n",
              "      <button class=\"colab-df-convert\" onclick=\"convertToInteractive('df-e1152c7a-2b3a-49fe-a58c-c4d297231fa3')\"\n",
              "              title=\"Convert this dataframe to an interactive table.\"\n",
              "              style=\"display:none;\">\n",
              "        \n",
              "  <svg xmlns=\"http://www.w3.org/2000/svg\" height=\"24px\"viewBox=\"0 0 24 24\"\n",
              "       width=\"24px\">\n",
              "    <path d=\"M0 0h24v24H0V0z\" fill=\"none\"/>\n",
              "    <path d=\"M18.56 5.44l.94 2.06.94-2.06 2.06-.94-2.06-.94-.94-2.06-.94 2.06-2.06.94zm-11 1L8.5 8.5l.94-2.06 2.06-.94-2.06-.94L8.5 2.5l-.94 2.06-2.06.94zm10 10l.94 2.06.94-2.06 2.06-.94-2.06-.94-.94-2.06-.94 2.06-2.06.94z\"/><path d=\"M17.41 7.96l-1.37-1.37c-.4-.4-.92-.59-1.43-.59-.52 0-1.04.2-1.43.59L10.3 9.45l-7.72 7.72c-.78.78-.78 2.05 0 2.83L4 21.41c.39.39.9.59 1.41.59.51 0 1.02-.2 1.41-.59l7.78-7.78 2.81-2.81c.8-.78.8-2.07 0-2.86zM5.41 20L4 18.59l7.72-7.72 1.47 1.35L5.41 20z\"/>\n",
              "  </svg>\n",
              "      </button>\n",
              "      \n",
              "  <style>\n",
              "    .colab-df-container {\n",
              "      display:flex;\n",
              "      flex-wrap:wrap;\n",
              "      gap: 12px;\n",
              "    }\n",
              "\n",
              "    .colab-df-convert {\n",
              "      background-color: #E8F0FE;\n",
              "      border: none;\n",
              "      border-radius: 50%;\n",
              "      cursor: pointer;\n",
              "      display: none;\n",
              "      fill: #1967D2;\n",
              "      height: 32px;\n",
              "      padding: 0 0 0 0;\n",
              "      width: 32px;\n",
              "    }\n",
              "\n",
              "    .colab-df-convert:hover {\n",
              "      background-color: #E2EBFA;\n",
              "      box-shadow: 0px 1px 2px rgba(60, 64, 67, 0.3), 0px 1px 3px 1px rgba(60, 64, 67, 0.15);\n",
              "      fill: #174EA6;\n",
              "    }\n",
              "\n",
              "    [theme=dark] .colab-df-convert {\n",
              "      background-color: #3B4455;\n",
              "      fill: #D2E3FC;\n",
              "    }\n",
              "\n",
              "    [theme=dark] .colab-df-convert:hover {\n",
              "      background-color: #434B5C;\n",
              "      box-shadow: 0px 1px 3px 1px rgba(0, 0, 0, 0.15);\n",
              "      filter: drop-shadow(0px 1px 2px rgba(0, 0, 0, 0.3));\n",
              "      fill: #FFFFFF;\n",
              "    }\n",
              "  </style>\n",
              "\n",
              "      <script>\n",
              "        const buttonEl =\n",
              "          document.querySelector('#df-e1152c7a-2b3a-49fe-a58c-c4d297231fa3 button.colab-df-convert');\n",
              "        buttonEl.style.display =\n",
              "          google.colab.kernel.accessAllowed ? 'block' : 'none';\n",
              "\n",
              "        async function convertToInteractive(key) {\n",
              "          const element = document.querySelector('#df-e1152c7a-2b3a-49fe-a58c-c4d297231fa3');\n",
              "          const dataTable =\n",
              "            await google.colab.kernel.invokeFunction('convertToInteractive',\n",
              "                                                     [key], {});\n",
              "          if (!dataTable) return;\n",
              "\n",
              "          const docLinkHtml = 'Like what you see? Visit the ' +\n",
              "            '<a target=\"_blank\" href=https://colab.research.google.com/notebooks/data_table.ipynb>data table notebook</a>'\n",
              "            + ' to learn more about interactive tables.';\n",
              "          element.innerHTML = '';\n",
              "          dataTable['output_type'] = 'display_data';\n",
              "          await google.colab.output.renderOutput(dataTable, element);\n",
              "          const docLink = document.createElement('div');\n",
              "          docLink.innerHTML = docLinkHtml;\n",
              "          element.appendChild(docLink);\n",
              "        }\n",
              "      </script>\n",
              "    </div>\n",
              "  </div>\n",
              "  "
            ]
          },
          "metadata": {},
          "execution_count": 76
        }
      ]
    },
    {
      "cell_type": "code",
      "source": [],
      "metadata": {
        "id": "WQpZWITaJUOZ"
      },
      "execution_count": null,
      "outputs": []
    }
  ],
  "metadata": {
    "colab": {
      "provenance": [],
      "authorship_tag": "ABX9TyNVUt8gyuVnlCNTt5FwmyqX",
      "include_colab_link": true
    },
    "kernelspec": {
      "display_name": "Python 3",
      "name": "python3"
    },
    "language_info": {
      "name": "python"
    }
  },
  "nbformat": 4,
  "nbformat_minor": 0
}